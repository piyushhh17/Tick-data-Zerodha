{
 "cells": [
  {
   "cell_type": "code",
   "execution_count": 1,
   "metadata": {},
   "outputs": [],
   "source": [
    "import logging\n",
    "from kiteconnect import KiteTicker\n",
    "import time\n",
    "import pandas as pd\n",
    "import redis\n",
    "import six\n",
    "import sys\n",
    "import time\n",
    "import json\n",
    "import struct\n",
    "import logging\n",
    "import threading\n",
    "from datetime import datetime, timedelta\n",
    "from twisted.internet import reactor, ssl\n",
    "from twisted.python import log as twisted_log\n",
    "from twisted.internet.protocol import ReconnectingClientFactory\n",
    "from autobahn.twisted.websocket import WebSocketClientProtocol, \\\n",
    "    WebSocketClientFactory, connectWS"
   ]
  },
  {
   "cell_type": "code",
   "execution_count": 5,
   "metadata": {},
   "outputs": [
    {
     "name": "stdout",
     "output_type": "stream",
     "text": [
      "Nifty 50 LTP: 19592.3\n"
     ]
    }
   ],
   "source": [
    "redis_client = redis.Redis(host='127.0.0.1', port=6379, decode_responses=True)\n",
    "ltp = redis_client.hget('Nifty50', 'ltp')\n",
    "print(f\"Nifty 50 LTP: {ltp}\") "
   ]
  },
  {
   "cell_type": "code",
   "execution_count": 37,
   "metadata": {},
   "outputs": [
    {
     "name": "stdout",
     "output_type": "stream",
     "text": [
      "Nifty 50 LTP: 06-09-23 15:02:11\n"
     ]
    }
   ],
   "source": [
    "redis_client = redis.Redis(host='127.0.0.1', port=6379, decode_responses=True)\n",
    "ltp = redis_client.hget('Nifty50', 'time')\n",
    "print(f\"Nifty 50 LTP: {ltp}\") "
   ]
  },
  {
   "cell_type": "code",
   "execution_count": 59,
   "metadata": {},
   "outputs": [
    {
     "name": "stdout",
     "output_type": "stream",
     "text": [
      "{'time': '06-09-23 15:23:00', 'open': '19620.95', 'high': '19623.1', 'low': '19618.65', 'close': '19620.05'}\n",
      "{'time': '06-09-23 15:24:00', 'open': '19620.05', 'high': '19627.4', 'low': '19618.05', 'close': '19626.0'}\n",
      "{'time': '06-09-23 15:25:00', 'open': '19626.0', 'high': '19630.25', 'low': '19623.4', 'close': '19630.25'}\n",
      "{'time': '06-09-23 15:26:00', 'open': '19630.25', 'high': '19634.0', 'low': '19625.35', 'close': '19628.95'}\n",
      "{'time': '06-09-23 15:27:00', 'open': '19628.95', 'high': '19636.05', 'low': '19628.95', 'close': '19630.2'}\n",
      "{'time': '06-09-23 15:28:00', 'open': '19630.2', 'high': '19630.95', 'low': '19613.4', 'close': '19613.4'}\n",
      "{'time': '06-09-23 15:29:00', 'open': '19613.4', 'high': '19622.75', 'low': '19605.55', 'close': '19618.9'}\n",
      "{'time': '06-09-23 15:30:00', 'open': '19618.9', 'high': '19618.9', 'low': '19617.2', 'close': '19617.2'}\n"
     ]
    },
    {
     "ename": "KeyboardInterrupt",
     "evalue": "",
     "output_type": "error",
     "traceback": [
      "\u001b[1;31m---------------------------------------------------------------------------\u001b[0m",
      "\u001b[1;31mKeyboardInterrupt\u001b[0m                         Traceback (most recent call last)",
      "Cell \u001b[1;32mIn[59], line 8\u001b[0m\n\u001b[0;32m      4\u001b[0m listo \u001b[39m=\u001b[39m []\n\u001b[0;32m      5\u001b[0m \u001b[39mwhile\u001b[39;00m \u001b[39mTrue\u001b[39;00m:    \n\u001b[0;32m      6\u001b[0m     \n\u001b[0;32m      7\u001b[0m     \u001b[39m# datetime_str = redis_client.hget('Nifty50', 'time')\u001b[39;00m\n\u001b[1;32m----> 8\u001b[0m     ltp \u001b[39m=\u001b[39m redis_client\u001b[39m.\u001b[39mhget(\u001b[39m'\u001b[39m\u001b[39mNifty50\u001b[39m\u001b[39m'\u001b[39m, \u001b[39m'\u001b[39m\u001b[39mltp\u001b[39m\u001b[39m'\u001b[39m)\n\u001b[0;32m     10\u001b[0m     current_time \u001b[39m=\u001b[39m datetime\u001b[39m.\u001b[39mnow()\n\u001b[0;32m     11\u001b[0m     current_time \u001b[39m=\u001b[39m current_time\u001b[39m.\u001b[39mstrftime(\u001b[39m\"\u001b[39m\u001b[39m%d\u001b[39;00m\u001b[39m-\u001b[39m\u001b[39m%\u001b[39m\u001b[39mm-\u001b[39m\u001b[39m%\u001b[39m\u001b[39my \u001b[39m\u001b[39m%\u001b[39m\u001b[39mH:\u001b[39m\u001b[39m%\u001b[39m\u001b[39mM:\u001b[39m\u001b[39m%\u001b[39m\u001b[39mS\u001b[39m\u001b[39m\"\u001b[39m)\n",
      "File \u001b[1;32m~\\AppData\\Roaming\\Python\\Python311\\site-packages\\redis\\commands\\core.py:4946\u001b[0m, in \u001b[0;36mHashCommands.hget\u001b[1;34m(self, name, key)\u001b[0m\n\u001b[0;32m   4938\u001b[0m \u001b[39mdef\u001b[39;00m \u001b[39mhget\u001b[39m(\n\u001b[0;32m   4939\u001b[0m     \u001b[39mself\u001b[39m, name: \u001b[39mstr\u001b[39m, key: \u001b[39mstr\u001b[39m\n\u001b[0;32m   4940\u001b[0m ) \u001b[39m-\u001b[39m\u001b[39m>\u001b[39m Union[Awaitable[Optional[\u001b[39mstr\u001b[39m]], Optional[\u001b[39mstr\u001b[39m]]:\n\u001b[0;32m   4941\u001b[0m \u001b[39m    \u001b[39m\u001b[39m\"\"\"\u001b[39;00m\n\u001b[0;32m   4942\u001b[0m \u001b[39m    Return the value of ``key`` within the hash ``name``\u001b[39;00m\n\u001b[0;32m   4943\u001b[0m \n\u001b[0;32m   4944\u001b[0m \u001b[39m    For more information see https://redis.io/commands/hget\u001b[39;00m\n\u001b[0;32m   4945\u001b[0m \u001b[39m    \"\"\"\u001b[39;00m\n\u001b[1;32m-> 4946\u001b[0m     \u001b[39mreturn\u001b[39;00m \u001b[39mself\u001b[39m\u001b[39m.\u001b[39mexecute_command(\u001b[39m\"\u001b[39m\u001b[39mHGET\u001b[39m\u001b[39m\"\u001b[39m, name, key)\n",
      "File \u001b[1;32m~\\AppData\\Roaming\\Python\\Python311\\site-packages\\redis\\client.py:508\u001b[0m, in \u001b[0;36mRedis.execute_command\u001b[1;34m(self, *args, **options)\u001b[0m\n\u001b[0;32m    505\u001b[0m conn \u001b[39m=\u001b[39m \u001b[39mself\u001b[39m\u001b[39m.\u001b[39mconnection \u001b[39mor\u001b[39;00m pool\u001b[39m.\u001b[39mget_connection(command_name, \u001b[39m*\u001b[39m\u001b[39m*\u001b[39moptions)\n\u001b[0;32m    507\u001b[0m \u001b[39mtry\u001b[39;00m:\n\u001b[1;32m--> 508\u001b[0m     \u001b[39mreturn\u001b[39;00m conn\u001b[39m.\u001b[39mretry\u001b[39m.\u001b[39mcall_with_retry(\n\u001b[0;32m    509\u001b[0m         \u001b[39mlambda\u001b[39;00m: \u001b[39mself\u001b[39m\u001b[39m.\u001b[39m_send_command_parse_response(\n\u001b[0;32m    510\u001b[0m             conn, command_name, \u001b[39m*\u001b[39margs, \u001b[39m*\u001b[39m\u001b[39m*\u001b[39moptions\n\u001b[0;32m    511\u001b[0m         ),\n\u001b[0;32m    512\u001b[0m         \u001b[39mlambda\u001b[39;00m error: \u001b[39mself\u001b[39m\u001b[39m.\u001b[39m_disconnect_raise(conn, error),\n\u001b[0;32m    513\u001b[0m     )\n\u001b[0;32m    514\u001b[0m \u001b[39mfinally\u001b[39;00m:\n\u001b[0;32m    515\u001b[0m     \u001b[39mif\u001b[39;00m \u001b[39mnot\u001b[39;00m \u001b[39mself\u001b[39m\u001b[39m.\u001b[39mconnection:\n",
      "File \u001b[1;32m~\\AppData\\Roaming\\Python\\Python311\\site-packages\\redis\\retry.py:46\u001b[0m, in \u001b[0;36mRetry.call_with_retry\u001b[1;34m(self, do, fail)\u001b[0m\n\u001b[0;32m     44\u001b[0m \u001b[39mwhile\u001b[39;00m \u001b[39mTrue\u001b[39;00m:\n\u001b[0;32m     45\u001b[0m     \u001b[39mtry\u001b[39;00m:\n\u001b[1;32m---> 46\u001b[0m         \u001b[39mreturn\u001b[39;00m do()\n\u001b[0;32m     47\u001b[0m     \u001b[39mexcept\u001b[39;00m \u001b[39mself\u001b[39m\u001b[39m.\u001b[39m_supported_errors \u001b[39mas\u001b[39;00m error:\n\u001b[0;32m     48\u001b[0m         failures \u001b[39m+\u001b[39m\u001b[39m=\u001b[39m \u001b[39m1\u001b[39m\n",
      "File \u001b[1;32m~\\AppData\\Roaming\\Python\\Python311\\site-packages\\redis\\client.py:509\u001b[0m, in \u001b[0;36mRedis.execute_command.<locals>.<lambda>\u001b[1;34m()\u001b[0m\n\u001b[0;32m    505\u001b[0m conn \u001b[39m=\u001b[39m \u001b[39mself\u001b[39m\u001b[39m.\u001b[39mconnection \u001b[39mor\u001b[39;00m pool\u001b[39m.\u001b[39mget_connection(command_name, \u001b[39m*\u001b[39m\u001b[39m*\u001b[39moptions)\n\u001b[0;32m    507\u001b[0m \u001b[39mtry\u001b[39;00m:\n\u001b[0;32m    508\u001b[0m     \u001b[39mreturn\u001b[39;00m conn\u001b[39m.\u001b[39mretry\u001b[39m.\u001b[39mcall_with_retry(\n\u001b[1;32m--> 509\u001b[0m         \u001b[39mlambda\u001b[39;00m: \u001b[39mself\u001b[39m\u001b[39m.\u001b[39m_send_command_parse_response(\n\u001b[0;32m    510\u001b[0m             conn, command_name, \u001b[39m*\u001b[39margs, \u001b[39m*\u001b[39m\u001b[39m*\u001b[39moptions\n\u001b[0;32m    511\u001b[0m         ),\n\u001b[0;32m    512\u001b[0m         \u001b[39mlambda\u001b[39;00m error: \u001b[39mself\u001b[39m\u001b[39m.\u001b[39m_disconnect_raise(conn, error),\n\u001b[0;32m    513\u001b[0m     )\n\u001b[0;32m    514\u001b[0m \u001b[39mfinally\u001b[39;00m:\n\u001b[0;32m    515\u001b[0m     \u001b[39mif\u001b[39;00m \u001b[39mnot\u001b[39;00m \u001b[39mself\u001b[39m\u001b[39m.\u001b[39mconnection:\n",
      "File \u001b[1;32m~\\AppData\\Roaming\\Python\\Python311\\site-packages\\redis\\client.py:484\u001b[0m, in \u001b[0;36mRedis._send_command_parse_response\u001b[1;34m(self, conn, command_name, *args, **options)\u001b[0m\n\u001b[0;32m    480\u001b[0m \u001b[39mdef\u001b[39;00m \u001b[39m_send_command_parse_response\u001b[39m(\u001b[39mself\u001b[39m, conn, command_name, \u001b[39m*\u001b[39margs, \u001b[39m*\u001b[39m\u001b[39m*\u001b[39moptions):\n\u001b[0;32m    481\u001b[0m \u001b[39m    \u001b[39m\u001b[39m\"\"\"\u001b[39;00m\n\u001b[0;32m    482\u001b[0m \u001b[39m    Send a command and parse the response\u001b[39;00m\n\u001b[0;32m    483\u001b[0m \u001b[39m    \"\"\"\u001b[39;00m\n\u001b[1;32m--> 484\u001b[0m     conn\u001b[39m.\u001b[39msend_command(\u001b[39m*\u001b[39margs)\n\u001b[0;32m    485\u001b[0m     \u001b[39mreturn\u001b[39;00m \u001b[39mself\u001b[39m\u001b[39m.\u001b[39mparse_response(conn, command_name, \u001b[39m*\u001b[39m\u001b[39m*\u001b[39moptions)\n",
      "File \u001b[1;32m~\\AppData\\Roaming\\Python\\Python311\\site-packages\\redis\\connection.py:457\u001b[0m, in \u001b[0;36mAbstractConnection.send_command\u001b[1;34m(self, *args, **kwargs)\u001b[0m\n\u001b[0;32m    455\u001b[0m \u001b[39mdef\u001b[39;00m \u001b[39msend_command\u001b[39m(\u001b[39mself\u001b[39m, \u001b[39m*\u001b[39margs, \u001b[39m*\u001b[39m\u001b[39m*\u001b[39mkwargs):\n\u001b[0;32m    456\u001b[0m \u001b[39m    \u001b[39m\u001b[39m\"\"\"Pack and send a command to the Redis server\"\"\"\u001b[39;00m\n\u001b[1;32m--> 457\u001b[0m     \u001b[39mself\u001b[39m\u001b[39m.\u001b[39msend_packed_command(\n\u001b[0;32m    458\u001b[0m         \u001b[39mself\u001b[39m\u001b[39m.\u001b[39m_command_packer\u001b[39m.\u001b[39mpack(\u001b[39m*\u001b[39margs),\n\u001b[0;32m    459\u001b[0m         check_health\u001b[39m=\u001b[39mkwargs\u001b[39m.\u001b[39mget(\u001b[39m\"\u001b[39m\u001b[39mcheck_health\u001b[39m\u001b[39m\"\u001b[39m, \u001b[39mTrue\u001b[39;00m),\n\u001b[0;32m    460\u001b[0m     )\n",
      "File \u001b[1;32m~\\AppData\\Roaming\\Python\\Python311\\site-packages\\redis\\connection.py:435\u001b[0m, in \u001b[0;36mAbstractConnection.send_packed_command\u001b[1;34m(self, command, check_health)\u001b[0m\n\u001b[0;32m    433\u001b[0m         command \u001b[39m=\u001b[39m [command]\n\u001b[0;32m    434\u001b[0m     \u001b[39mfor\u001b[39;00m item \u001b[39min\u001b[39;00m command:\n\u001b[1;32m--> 435\u001b[0m         \u001b[39mself\u001b[39m\u001b[39m.\u001b[39m_sock\u001b[39m.\u001b[39msendall(item)\n\u001b[0;32m    436\u001b[0m \u001b[39mexcept\u001b[39;00m socket\u001b[39m.\u001b[39mtimeout:\n\u001b[0;32m    437\u001b[0m     \u001b[39mself\u001b[39m\u001b[39m.\u001b[39mdisconnect()\n",
      "\u001b[1;31mKeyboardInterrupt\u001b[0m: "
     ]
    }
   ],
   "source": [
    "redis_client = redis.Redis(host='127.0.0.1', port=6379, decode_responses=True)\n",
    "minute = 0\n",
    "dicto = {}\n",
    "listo = []\n",
    "while True:    \n",
    "    \n",
    "    # datetime_str = redis_client.hget('Nifty50', 'time')\n",
    "    ltp = redis_client.hget('NIFTY 50', 'ltp')\n",
    "    \n",
    "    current_time = datetime.now()\n",
    "    current_time = current_time.strftime(\"%d-%m-%y %H:%M:%S\")\n",
    "    time_format = \"%d-%m-%y %H:%M:%S\"\n",
    "    # datetime_str = datetime.strptime(datetime_str, time_format)\n",
    "    current_time = datetime.strptime(current_time, time_format)\n",
    "\n",
    "    # Check if a new minute has started\n",
    "    if minute != current_time.minute:\n",
    "        minute = current_time.minute\n",
    "        datetime_str = current_time\n",
    "        datetime_str = datetime_str - timedelta(minutes=1) \n",
    "        datetime_str = datetime_str.strftime(\"%d-%m-%y %H:%M:%S\")\n",
    "        # Calculate OHLC data for the previous minute\n",
    "        if listo:\n",
    "            dicto['time'] = datetime_str\n",
    "            dicto['open'] = listo[0]\n",
    "            dicto['high'] = max(listo)\n",
    "            dicto['low'] = min(listo)\n",
    "            dicto['close'] = listo[-1]\n",
    "            print(dicto)\n",
    "            dicto = {}\n",
    "            listo = []\n",
    "        \n",
    "        # Append the current tick's LTP to the list for the current minute\n",
    "    listo.append(ltp)\n",
    "    # print(list)\n",
    "    # print(dicto)"
   ]
  }
 ],
 "metadata": {
  "kernelspec": {
   "display_name": "base",
   "language": "python",
   "name": "python3"
  },
  "language_info": {
   "codemirror_mode": {
    "name": "ipython",
    "version": 3
   },
   "file_extension": ".py",
   "mimetype": "text/x-python",
   "name": "python",
   "nbconvert_exporter": "python",
   "pygments_lexer": "ipython3",
   "version": "3.11.3"
  },
  "orig_nbformat": 4
 },
 "nbformat": 4,
 "nbformat_minor": 2
}
