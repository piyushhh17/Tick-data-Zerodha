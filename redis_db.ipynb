{
 "cells": [
  {
   "cell_type": "code",
   "execution_count": 1,
   "metadata": {},
   "outputs": [],
   "source": [
    "import redis\n",
    "import six\n",
    "import sys\n",
    "import time\n",
    "import json\n",
    "import struct\n",
    "import logging\n",
    "import threading\n",
    "from datetime import datetime, timedelta\n",
    "from twisted.internet import reactor, ssl\n",
    "from twisted.python import log as twisted_log\n",
    "from twisted.internet.protocol import ReconnectingClientFactory\n",
    "from autobahn.twisted.websocket import WebSocketClientProtocol, \\\n",
    "    WebSocketClientFactory, connectWS\n",
    "\n",
    "# from .__version__ import __version__, __title__\n"
   ]
  },
  {
   "cell_type": "code",
   "execution_count": 2,
   "metadata": {},
   "outputs": [],
   "source": [
    "# Replace 'localhost' and 6379 with your Redis server's host and port.\n",
    "redis_client = redis.Redis(host='127.0.0.1', port=6379, decode_responses=True)\n",
    "\n"
   ]
  },
  {
   "cell_type": "code",
   "execution_count": 3,
   "metadata": {},
   "outputs": [
    {
     "data": {
      "text/plain": [
       "True"
      ]
     },
     "execution_count": 3,
     "metadata": {},
     "output_type": "execute_result"
    }
   ],
   "source": [
    "redis_client.set('2', 'abfgdsga')\n"
   ]
  },
  {
   "cell_type": "code",
   "execution_count": 4,
   "metadata": {},
   "outputs": [
    {
     "name": "stdout",
     "output_type": "stream",
     "text": [
      "ab\n"
     ]
    }
   ],
   "source": [
    "value = redis_client.get('1')\n",
    "print(value)  # Output: 'my_value'\n"
   ]
  },
  {
   "cell_type": "code",
   "execution_count": 16,
   "metadata": {},
   "outputs": [
    {
     "data": {
      "text/plain": [
       "3"
      ]
     },
     "execution_count": 16,
     "metadata": {},
     "output_type": "execute_result"
    }
   ],
   "source": [
    "# Pushing elements to the end of a list\n",
    "redis_client.rpush('my_list', 'item1', 'item2', 'item3')"
   ]
  },
  {
   "cell_type": "code",
   "execution_count": 17,
   "metadata": {},
   "outputs": [
    {
     "name": "stdout",
     "output_type": "stream",
     "text": [
      "['item1', 'item2', 'item3']\n"
     ]
    }
   ],
   "source": [
    "# Getting elements from a list\n",
    "items = redis_client.lrange('my_list', 0, -1)\n",
    "print(items)  # Output: ['item1', 'item2', 'item3']"
   ]
  },
  {
   "cell_type": "code",
   "execution_count": 20,
   "metadata": {},
   "outputs": [
    {
     "name": "stderr",
     "output_type": "stream",
     "text": [
      "C:\\Users\\HP\\AppData\\Local\\Temp\\ipykernel_15376\\4213060941.py:10: DeprecationWarning: Redis.hmset() is deprecated. Use Redis.hset() instead.\n",
      "  redis_client.hmset(redis_key, data_dict)\n"
     ]
    },
    {
     "data": {
      "text/plain": [
       "True"
      ]
     },
     "execution_count": 20,
     "metadata": {},
     "output_type": "execute_result"
    }
   ],
   "source": [
    "data_dict = {\n",
    "    'name': 'John Doe',\n",
    "    'age': 30,\n",
    "    'city': 'New York',\n",
    "}\n",
    "# Specify the key for the Redis hash\n",
    "redis_key = 'user_info'\n",
    "\n",
    "# Push the dictionary into Redis\n",
    "redis_client.hmset(redis_key, data_dict)\n"
   ]
  },
  {
   "cell_type": "code",
   "execution_count": 21,
   "metadata": {},
   "outputs": [
    {
     "name": "stdout",
     "output_type": "stream",
     "text": [
      "Age: 30\n",
      "{'name': 'John Doe', 'age': '30', 'city': 'New York'}\n"
     ]
    }
   ],
   "source": [
    "# Retrieve a specific field value\n",
    "age = redis_client.hget(redis_key, 'age')\n",
    "print(f\"Age: {age}\")  # Output: Age: 30\n",
    "\n",
    "# Retrieve the entire hash\n",
    "user_info = redis_client.hgetall(redis_key)\n",
    "print(user_info)\n",
    "# The hget method is used to retrieve a specific field's value, \n",
    "# and hgetall retrieves the entire hash."
   ]
  },
  {
   "cell_type": "code",
   "execution_count": 15,
   "metadata": {},
   "outputs": [
    {
     "name": "stdout",
     "output_type": "stream",
     "text": [
      "aba\n"
     ]
    }
   ],
   "source": [
    "try:\n",
    "    value = redis_client.get('2')\n",
    "    if value is None:\n",
    "        print(\"Key does not exist\")\n",
    "    else:\n",
    "        print(value)\n",
    "except redis.exceptions.RedisError as e:\n",
    "    print(f\"Redis Error: {e}\")\n"
   ]
  },
  {
   "cell_type": "code",
   "execution_count": 10,
   "metadata": {},
   "outputs": [],
   "source": [
    "from twisted.internet import reactor, task\n",
    "import twisted.internet.reactor\n",
    "\n",
    "def reinitialize_twisted():\n",
    "    # Stop the current reactor if it's running\n",
    "    if reactor.running:\n",
    "        reactor.stop()\n",
    "\n",
    "    # Create a new instance of the reactor\n",
    "    new_reactor = twisted.internet.reactor.get_new_event_loop()\n",
    "\n",
    "    # You may need to reinitialize other Twisted components here\n",
    "    # For example, if you use Deferreds or other Twisted features\n",
    "\n",
    "    # Start the new reactor\n",
    "    new_reactor.start()\n"
   ]
  },
  {
   "cell_type": "code",
   "execution_count": 11,
   "metadata": {},
   "outputs": [
    {
     "ename": "AttributeError",
     "evalue": "'SelectReactor' object has no attribute 'get_new_event_loop'",
     "output_type": "error",
     "traceback": [
      "\u001b[1;31m---------------------------------------------------------------------------\u001b[0m",
      "\u001b[1;31mAttributeError\u001b[0m                            Traceback (most recent call last)",
      "Cell \u001b[1;32mIn[11], line 5\u001b[0m\n\u001b[0;32m      3\u001b[0m \u001b[39mimport\u001b[39;00m \u001b[39mtime\u001b[39;00m\n\u001b[0;32m      4\u001b[0m \u001b[39mimport\u001b[39;00m \u001b[39mpandas\u001b[39;00m \u001b[39mas\u001b[39;00m \u001b[39mpd\u001b[39;00m\n\u001b[1;32m----> 5\u001b[0m reinitialize_twisted()\n\u001b[0;32m      7\u001b[0m logging\u001b[39m.\u001b[39mbasicConfig(level\u001b[39m=\u001b[39mlogging\u001b[39m.\u001b[39mDEBUG)\n\u001b[0;32m      9\u001b[0m \u001b[39m# Initialise\u001b[39;00m\n",
      "Cell \u001b[1;32mIn[10], line 10\u001b[0m, in \u001b[0;36mreinitialize_twisted\u001b[1;34m()\u001b[0m\n\u001b[0;32m      7\u001b[0m     reactor\u001b[39m.\u001b[39mstop()\n\u001b[0;32m      9\u001b[0m \u001b[39m# Create a new instance of the reactor\u001b[39;00m\n\u001b[1;32m---> 10\u001b[0m new_reactor \u001b[39m=\u001b[39m twisted\u001b[39m.\u001b[39minternet\u001b[39m.\u001b[39mreactor\u001b[39m.\u001b[39mget_new_event_loop()\n\u001b[0;32m     12\u001b[0m \u001b[39m# You may need to reinitialize other Twisted components here\u001b[39;00m\n\u001b[0;32m     13\u001b[0m \u001b[39m# For example, if you use Deferreds or other Twisted features\u001b[39;00m\n\u001b[0;32m     14\u001b[0m \n\u001b[0;32m     15\u001b[0m \u001b[39m# Start the new reactor\u001b[39;00m\n\u001b[0;32m     16\u001b[0m new_reactor\u001b[39m.\u001b[39mstart()\n",
      "\u001b[1;31mAttributeError\u001b[0m: 'SelectReactor' object has no attribute 'get_new_event_loop'"
     ]
    }
   ],
   "source": [
    "import logging\n",
    "from kiteconnect import KiteTicker\n",
    "import time\n",
    "import pandas as pd\n",
    "import redis\n",
    "import six\n",
    "import sys\n",
    "import time\n",
    "import json\n",
    "import struct\n",
    "import logging\n",
    "import threading\n",
    "from datetime import datetime, timedelta\n",
    "from twisted.internet import reactor, ssl\n",
    "from twisted.python import log as twisted_log\n",
    "from twisted.internet.protocol import ReconnectingClientFactory\n",
    "from autobahn.twisted.websocket import WebSocketClientProtocol, \\\n",
    "    WebSocketClientFactory, connectWS\n",
    "\n",
    "# from .__version__ import __version__, __title__\n",
    "\n",
    "redis_client = redis.Redis(host='127.0.0.1', port=6379, decode_responses=True)\n",
    "\n",
    "logging.basicConfig(level=logging.DEBUG)\n",
    "\n",
    "# Initialise\n",
    "kws = KiteTicker(\"j2offcolhvyskf8r\", \"KauN9sJx3i32Yw94IELrvlSvUKbIv5hB\")\n",
    "tokens = [256265]\n",
    "stock_names = {256265:'NIFTY 50'}\n",
    "dicto = {}\n",
    "def on_ticks(ws, ticks):\n",
    "    global high, low, minute, count\n",
    "    global dicto, listo, entry_flag\n",
    "    \n",
    "    for tick in ticks:\n",
    "        datetime_str = tick['exchange_timestamp'].strftime(\"%d-%m-%y %H:%M:%S\")\n",
    "        current_time = datetime.now()\n",
    "        current_time = current_time.strftime(\"%d-%m-%y %H:%M:%S\")\n",
    "        time_format = \"%d-%m-%y %H:%M:%S\"\n",
    "        datetime_str = datetime.strptime(datetime_str, time_format)\n",
    "        datetime_str = datetime_str - timedelta(minutes=1)\n",
    "        current_time = datetime.strptime(current_time, time_format)\n",
    "        ltp = tick['last_price']\n",
    "        datetime_str = datetime_str.strftime(\"%d-%m-%y %H:%M:%S\")\n",
    "        dicto['time'] = datetime_str\n",
    "        dicto['ltp'] = ltp\n",
    "        print (dicto)\n",
    "        redis_key = 'Nifty50'\n",
    "        redis_client.hmset(redis_key, dicto)\n",
    "\n",
    "\n",
    "def on_connect(ws, response):\n",
    "    # Callback on successful connect.\n",
    "    # Subscribe to a list of instrument_tokens (RELIANCE and ACC here).\n",
    "    ws.subscribe(tokens)\n",
    "\n",
    "    # Set RELIANCE to tick in `full` mode.\n",
    "    ws.set_mode(ws.MODE_FULL, tokens)\n",
    "    \n",
    "\n",
    "def on_close(ws, code, reason):\n",
    "    # elapsed_time = time.time() - start_time\n",
    "    # On connection close stop the event loop.\n",
    "    # Reconnection will not happen after executing `ws.stop()`\n",
    "    ws.stop()\n",
    "\n",
    "    # ws.stop()\n",
    "\n",
    "# Assign the callbacks.\n",
    "kws.on_ticks = on_ticks\n",
    "kws.on_connect = on_connect\n",
    "kws.on_close = on_close\n",
    "\n",
    "# Infinite loop on the main thread. Nothing after this will run.\n",
    "# You have to use the pre-defined callbacks to manage subscriptions.\n",
    "\n",
    "kws.connect()\n"
   ]
  },
  {
   "cell_type": "code",
   "execution_count": 6,
   "metadata": {},
   "outputs": [],
   "source": []
  },
  {
   "cell_type": "code",
   "execution_count": 7,
   "metadata": {},
   "outputs": [],
   "source": []
  }
 ],
 "metadata": {
  "kernelspec": {
   "display_name": "base",
   "language": "python",
   "name": "python3"
  },
  "language_info": {
   "codemirror_mode": {
    "name": "ipython",
    "version": 3
   },
   "file_extension": ".py",
   "mimetype": "text/x-python",
   "name": "python",
   "nbconvert_exporter": "python",
   "pygments_lexer": "ipython3",
   "version": "3.11.3"
  },
  "orig_nbformat": 4
 },
 "nbformat": 4,
 "nbformat_minor": 2
}
