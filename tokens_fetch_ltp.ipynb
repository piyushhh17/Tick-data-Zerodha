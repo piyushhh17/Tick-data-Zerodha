{
 "cells": [
  {
   "cell_type": "code",
   "execution_count": 1,
   "metadata": {},
   "outputs": [],
   "source": [
    "import csv\n",
    "import time\n",
    "import traceback\n",
    "\n",
    "import pandas\n",
    "from ib_insync import *\n",
    "import numpy as np\n",
    "import pandas as pd\n",
    "import warnings\n",
    "warnings.filterwarnings('ignore')\n",
    "import traceback\n",
    "from copy import deepcopy\n",
    "\n",
    "from kiteconnect import KiteConnect\n",
    "\n",
    "from statsmodels.tsa.stattools import adfuller\n",
    "import statsmodels.api as sm\n",
    "warnings.filterwarnings('ignore')\n",
    "import math\n",
    "import redis\n",
    "import six\n",
    "import sys\n",
    "import time\n",
    "import json\n",
    "import struct\n",
    "import logging\n",
    "import threading\n",
    "from datetime import datetime, timedelta\n",
    "from twisted.internet import reactor, ssl\n",
    "from twisted.python import log as twisted_log\n",
    "from twisted.internet.protocol import ReconnectingClientFactory\n",
    "from autobahn.twisted.websocket import WebSocketClientProtocol, \\\n",
    "    WebSocketClientFactory, connectWS\n",
    "\n",
    "# from .__version__ import __version__, __title__\n"
   ]
  },
  {
   "cell_type": "code",
   "execution_count": 2,
   "metadata": {},
   "outputs": [],
   "source": [
    "def generateAccess():\n",
    "    global access_token, key_secret, kite, instrument_df, tickers, quantity\n",
    "    access_token = 'GXOdTC4l6kV6mikGkoLbZcsoIxBZ90MX'\n",
    "    key_secret = 'j2offcolhvyskf8r'\n",
    "    kite = KiteConnect(api_key=key_secret)\n",
    "    kite.set_access_token(access_token)\n",
    "def instrumentLookup(symbol):\n",
    "    global access_token, key_secret, kite, instrument_df, tickers, quantity\n",
    "    try:\n",
    "        return instrument_df[instrument_df.tradingsymbol == symbol].instrument_token.values[0]\n",
    "    except:\n",
    "        return -1\n",
    "\n",
    "\n",
    "def getInstruments():\n",
    "    global access_token, key_secret, kite, instrument_df, tickers, quantity\n",
    "    while True:\n",
    "        try:\n",
    "            instrument_dump = kite.instruments()\n",
    "            instrument_df = pd.DataFrame(instrument_dump)\n",
    "            break\n",
    "        except Exception as e:\n",
    "            print(str(e))\n",
    "            continue"
   ]
  },
  {
   "cell_type": "code",
   "execution_count": 5,
   "metadata": {},
   "outputs": [
    {
     "name": "stdout",
     "output_type": "stream",
     "text": [
      "['EURINR23DEC84.5CE' 'EURINR23DEC84.5PE' 'EURINR23DEC84.75CE' ...\n",
      " 'ZUARIIND' 'ZYDUSLIFE' 'ZYDUSWELL']\n"
     ]
    }
   ],
   "source": [
    "from kiteconnect import KiteConnect\n",
    "generateAccess()\n",
    "getInstruments()\n",
    "instrument_df.head()\n",
    "# print(instrument_df['tradingsymbol'].values)"
   ]
  },
  {
   "cell_type": "code",
   "execution_count": 10,
   "metadata": {},
   "outputs": [],
   "source": [
    "def get_atm_nifty(ltp):\n",
    "    nifty_step_size = 50\n",
    "    mod = math.fmod(ltp, nifty_step_size)\n",
    "    if mod >= 25:\n",
    "        atm_value = ltp - mod + nifty_step_size\n",
    "    else:\n",
    "        atm_value = ltp - mod\n",
    "    #print('Nifty ATM Value: ', int(atm_value))\n",
    "    return int(atm_value)\n",
    "\n",
    "def get_atm_bank_nifty(ltp):\n",
    "    bnf_step_size = 100\n",
    "    mod = math.fmod(ltp, bnf_step_size)\n",
    "    if mod > 50:\n",
    "        atm_value = int((ltp//100)*100)+100\n",
    "    else:\n",
    "        atm_value = int(ltp//100)*100\n",
    "    return atm_value\n",
    "    \n",
    "\n",
    "def fetch_ltp(kite, name):\n",
    "    '''\n",
    "    Function takes kite object, name of exchange and name of instruments\n",
    "    and returns the ltp\n",
    "    '''\n",
    "    instrument_name = str(instrumentLookup(name))\n",
    "    \n",
    "    ltp = kite.ltp(instrument_name)[instrument_name]['last_price']\n",
    "    return ltp\n"
   ]
  },
  {
   "cell_type": "code",
   "execution_count": 12,
   "metadata": {},
   "outputs": [
    {
     "name": "stdout",
     "output_type": "stream",
     "text": [
      "19750\n",
      "19727.05\n"
     ]
    }
   ],
   "source": [
    "print(get_atm_nifty(fetch_ltp(kite, 'NIFTY 50')))\n",
    "print(fetch_ltp(kite, 'NIFTY 50'))\n",
    "# print(kite.ltp(\"256265\")[\"256265\"]['last_price'])"
   ]
  },
  {
   "cell_type": "code",
   "execution_count": 13,
   "metadata": {},
   "outputs": [
    {
     "data": {
      "text/plain": [
       "str"
      ]
     },
     "execution_count": 13,
     "metadata": {},
     "output_type": "execute_result"
    }
   ],
   "source": [
    "today = datetime.now().strftime(\"%Y-%m-%d\")\n",
    "type(today)"
   ]
  },
  {
   "cell_type": "code",
   "execution_count": 14,
   "metadata": {},
   "outputs": [],
   "source": [
    "from datetime import datetime, timedelta\n",
    "def month00():\n",
    "    today = datetime.now().strftime(\"%Y-%m-%d\")\n",
    "    months_representation = {1:'JAN', 2:'FEB', 3:'MAR', 4:'APR', 5:'MAY', 6:'JUN', 7:'JUL', 8:'AUG', 9:'SEP', 10:'OCT', 11:'NOV', 12:'DEC'}\n",
    "    time_format = \"%Y-%m-%d\"\n",
    "    today = datetime.strptime(today, time_format)\n",
    "    year = str(today.year)\n",
    "    # print(year[-2:])\n",
    "    return (year[-2:] + months_representation[today.month])\n",
    "\n",
    "def month01():\n",
    "    today = datetime.now().strftime(\"%Y-%m-%d\")\n",
    "    months_representation = {1:'JAN', 2:'FEB', 3:'MAR', 4:'APR', 5:'MAY', 6:'JUN', 7:'JUL', 8:'AUG', 9:'SEP', 10:'OCT', 11:'NOV', 12:'DEC'}\n",
    "    time_format = \"%Y-%m-%d\"\n",
    "    today = datetime.strptime(today, time_format)\n",
    "    year = str(today.year)\n",
    "    # print(year[-2:])\n",
    "    return (year[-2:] + months_representation[(today.month+1)%12])\n",
    "\n"
   ]
  },
  {
   "cell_type": "code",
   "execution_count": 7,
   "metadata": {},
   "outputs": [
    {
     "name": "stdout",
     "output_type": "stream",
     "text": [
      "23OCT\n"
     ]
    }
   ],
   "source": [
    "print(get_tokendate_next())\n"
   ]
  },
  {
   "cell_type": "code",
   "execution_count": 96,
   "metadata": {},
   "outputs": [
    {
     "name": "stdout",
     "output_type": "stream",
     "text": [
      "NIFTY23SEP19650CE\n",
      "Instrument Token: 21982466\n"
     ]
    }
   ],
   "source": [
    "#ITM CE\n",
    "#50 below ATM\n",
    "ltp_data = kite.ltp(\"256265\")\n",
    "ltp = ltp_data[\"256265\"]['last_price']\n",
    "itm_ce = int(get_atm_nifty(ltp)) - 50\n",
    "\n",
    "exchange = \"NFO\"\n",
    "tradingsymbol = \"NIFTY\" + month00() + str(itm_ce) + \"CE\" \n",
    "print(tradingsymbol)\n",
    "try:\n",
    "    instruments = kite.ltp(exchange + \":\" + tradingsymbol)\n",
    "    if instruments:\n",
    "        instrument_token_ce = instruments[exchange + \":\" + tradingsymbol][\"instrument_token\"]\n",
    "        print(\"Instrument Token:\", instrument_token_ce)\n",
    "    else:\n",
    "        print(\"Instrument not found.\")\n",
    "except Exception as e:\n",
    "    print(\"Error:\", str(e))\n"
   ]
  },
  {
   "cell_type": "code",
   "execution_count": 10,
   "metadata": {},
   "outputs": [
    {
     "name": "stdout",
     "output_type": "stream",
     "text": [
      "NIFTY23OCT19700PE\n",
      "Instrument Token: 17231106\n"
     ]
    }
   ],
   "source": [
    "#ITM PE\n",
    "#50 above ATM\n",
    "ltp_data = kite.ltp(\"256265\")\n",
    "ltp = ltp_data[\"256265\"]['last_price']\n",
    "itm_ce = int(get_atm_nifty(ltp)) + 50\n",
    "\n",
    "exchange = \"NFO\"\n",
    "tradingsymbol = \"NIFTY\" + get_tokendate_next() + str(itm_ce) + \"PE\" \n",
    "print(tradingsymbol)\n",
    "try:\n",
    "    instruments = kite.ltp(exchange + \":\" + tradingsymbol)\n",
    "    if instruments:\n",
    "        instrument_token_ce = instruments[exchange + \":\" + tradingsymbol][\"instrument_token\"]\n",
    "        print(\"Instrument Token:\", instrument_token_ce)\n",
    "    else:\n",
    "        print(\"Instrument not found.\")\n",
    "except Exception as e:\n",
    "    print(\"Error:\", str(e))\n"
   ]
  },
  {
   "cell_type": "code",
   "execution_count": 23,
   "metadata": {},
   "outputs": [
    {
     "data": {
      "text/plain": [
       "21977346"
      ]
     },
     "execution_count": 23,
     "metadata": {},
     "output_type": "execute_result"
    }
   ],
   "source": [
    "instrumentLookup('NIFTY23SEP19500PE')"
   ]
  },
  {
   "cell_type": "code",
   "execution_count": 103,
   "metadata": {},
   "outputs": [],
   "source": [
    "def week00():    \n",
    "    all_expiry_dates = [str(x) for x in sorted(list(set(instrument_df[(instrument_df['exchange'] == 'NFO') & (instrument_df['name'] == 'NIFTY')]['expiry'].values)))]\n",
    "    x = all_expiry_dates[0]\n",
    "    y = all_expiry_dates[1]\n",
    "    if y[5:7] != x[5:7]:\n",
    "        return month00()\n",
    "    week = x[-2:]\n",
    "    year = x[2:4]\n",
    "    today = datetime.now().strftime(\"%Y-%m-%d\")\n",
    "    time_format = \"%Y-%m-%d\"\n",
    "    today = datetime.strptime(today, time_format)\n",
    "    month = today.month\n",
    "    month = str(month)\n",
    "    if month == '10':\n",
    "        month = 'O'\n",
    "    if month == '11':\n",
    "        month = 'N'\n",
    "    if month == '12':\n",
    "        month = 'D'\n",
    "    return (str(year)+month+str(week))\n",
    "# print(all_expiry_dates[0][-2:])\n",
    "\n",
    "def week01():    \n",
    "    all_expiry_dates = [str(x) for x in sorted(list(set(instrument_df[(instrument_df['exchange'] == 'NFO') & (instrument_df['name'] == 'NIFTY')]['expiry'].values)))]\n",
    "    x = all_expiry_dates[1]\n",
    "    y = all_expiry_dates[2]\n",
    "    if y[5:7] != x[5:7]:\n",
    "        return month00()\n",
    "    week = x[-2:]\n",
    "    year = x[2:4]\n",
    "    today = datetime.now().strftime(\"%Y-%m-%d\")\n",
    "    time_format = \"%Y-%m-%d\"\n",
    "    today = datetime.strptime(today, time_format)\n",
    "    month = today.month\n",
    "    month = str(month)\n",
    "    if month == '10':\n",
    "        month = 'O'\n",
    "    if month == '11':\n",
    "        month = 'N'\n",
    "    if month == '12':\n",
    "        month = 'D'\n",
    "    return (str(year)+month+str(week))\n",
    "# print(all_expiry_dates[0][-2:])\n",
    "\n"
   ]
  },
  {
   "cell_type": "code",
   "execution_count": 90,
   "metadata": {},
   "outputs": [
    {
     "name": "stdout",
     "output_type": "stream",
     "text": [
      "9\n"
     ]
    }
   ],
   "source": [
    "today = datetime.now().strftime(\"%Y-%m-%d\")\n",
    "time_format = \"%Y-%m-%d\"\n",
    "today = datetime.strptime(today, time_format)\n",
    "month = today.month\n",
    "month = str(month)\n",
    "if month == '10':\n",
    "    month = 'O'\n",
    "if month == '11':\n",
    "    month = 'N'\n",
    "if month == '12':\n",
    "    month = 'D'\n",
    "print(month)"
   ]
  },
  {
   "cell_type": "code",
   "execution_count": 15,
   "metadata": {},
   "outputs": [],
   "source": [
    "def month00():\n",
    "    today = datetime.now().strftime(\"%Y-%m-%d\")\n",
    "    months_representation = {1:'JAN', 2:'FEB', 3:'MAR', 4:'APR', 5:'MAY', 6:'JUN', 7:'JUL', 8:'AUG', 9:'SEP', 10:'OCT', 11:'NOV', 12:'DEC'}\n",
    "    time_format = \"%Y-%m-%d\"\n",
    "    today = datetime.strptime(today, time_format)\n",
    "    year = str(today.year)\n",
    "    # print(year[-2:])\n",
    "    return (year[-2:] + months_representation[today.month])\n",
    "\n",
    "def month01():\n",
    "    today = datetime.now().strftime(\"%Y-%m-%d\")\n",
    "    months_representation = {1:'JAN', 2:'FEB', 3:'MAR', 4:'APR', 5:'MAY', 6:'JUN', 7:'JUL', 8:'AUG', 9:'SEP', 10:'OCT', 11:'NOV', 12:'DEC'}\n",
    "    time_format = \"%Y-%m-%d\"\n",
    "    today = datetime.strptime(today, time_format)\n",
    "    year = str(today.year)\n",
    "    # print(year[-2:])\n",
    "    return (year[-2:] + months_representation[(today.month+1)%12])\n",
    "\n",
    "def week00_nf():    \n",
    "    all_expiry_dates = [str(x) for x in sorted(list(set(instrument_df[(instrument_df['exchange'] == 'NFO') & (instrument_df['name'] == 'NIFTY')]['expiry'].values)))]\n",
    "    x = all_expiry_dates[0]\n",
    "    y = all_expiry_dates[1]\n",
    "    if y[5:7] != x[5:7]:\n",
    "        return month00()\n",
    "    week = x[-2:]\n",
    "    year = x[2:4]\n",
    "    today = datetime.now().strftime(\"%Y-%m-%d\")\n",
    "    time_format = \"%Y-%m-%d\"\n",
    "    today = datetime.strptime(today, time_format)\n",
    "    month = today.month\n",
    "    month = str(month)\n",
    "    if month == '10':\n",
    "        month = 'O'\n",
    "    if month == '11':\n",
    "        month = 'N'\n",
    "    if month == '12':\n",
    "        month = 'D'\n",
    "    return (str(year)+month+str(week))\n",
    "# print(all_expiry_dates[0][-2:])\n",
    "\n",
    "def week01_nf():    \n",
    "    all_expiry_dates = [str(x) for x in sorted(list(set(instrument_df[(instrument_df['exchange'] == 'NFO') & (instrument_df['name'] == 'NIFTY')]['expiry'].values)))]\n",
    "    x = all_expiry_dates[1]\n",
    "    y = all_expiry_dates[2]\n",
    "    if y[5:7] != x[5:7]:\n",
    "        return month00()\n",
    "    week = x[-2:]\n",
    "    year = x[2:4]\n",
    "    today = datetime.now().strftime(\"%Y-%m-%d\")\n",
    "    time_format = \"%Y-%m-%d\"\n",
    "    today = datetime.strptime(today, time_format)\n",
    "    month = today.month\n",
    "    month = str(month)\n",
    "    if month == '10':\n",
    "        month = 'O'\n",
    "    if month == '11':\n",
    "        month = 'N'\n",
    "    if month == '12':\n",
    "        month = 'D'\n",
    "    return (str(year)+month+str(week))\n",
    "def week00_bn():    \n",
    "    all_expiry_dates = [str(x) for x in sorted(list(set(instrument_df[(instrument_df['exchange'] == 'NFO') & (instrument_df['name'] == 'BANKNIFTY')]['expiry'].values)))]\n",
    "    x = all_expiry_dates[0]\n",
    "    y = all_expiry_dates[1]\n",
    "    if y[5:7] != x[5:7]:\n",
    "        return month00()\n",
    "    week = x[-2:]\n",
    "    year = x[2:4]\n",
    "    today = datetime.now().strftime(\"%Y-%m-%d\")\n",
    "    time_format = \"%Y-%m-%d\"\n",
    "    today = datetime.strptime(today, time_format)\n",
    "    month = today.month\n",
    "    month = str(month)\n",
    "    if month == '10':\n",
    "        month = 'O'\n",
    "    if month == '11':\n",
    "        month = 'N'\n",
    "    if month == '12':\n",
    "        month = 'D'\n",
    "    return (str(year)+month+str(week))\n",
    "# print(all_expiry_dates[0][-2:])\n",
    "\n",
    "def week01_bn():    \n",
    "    all_expiry_dates = [str(x) for x in sorted(list(set(instrument_df[(instrument_df['exchange'] == 'NFO') & (instrument_df['name'] == 'BANKNIFTY')]['expiry'].values)))]\n",
    "    x = all_expiry_dates[1]\n",
    "    y = all_expiry_dates[2]\n",
    "    if y[5:7] != x[5:7]:\n",
    "        return month00()\n",
    "    week = x[-2:]\n",
    "    year = x[2:4]\n",
    "    today = datetime.now().strftime(\"%Y-%m-%d\")\n",
    "    time_format = \"%Y-%m-%d\"\n",
    "    today = datetime.strptime(today, time_format)\n",
    "    month = today.month\n",
    "    month = str(month)\n",
    "    if month == '10':\n",
    "        month = 'O'\n",
    "    if month == '11':\n",
    "        month = 'N'\n",
    "    if month == '12':\n",
    "        month = 'D'\n",
    "    return (str(year)+month+str(week))"
   ]
  },
  {
   "cell_type": "code",
   "execution_count": 16,
   "metadata": {},
   "outputs": [
    {
     "name": "stdout",
     "output_type": "stream",
     "text": [
      "NIFTY2390719700CE\n",
      "Instrument Token: 11529474\n"
     ]
    }
   ],
   "source": [
    "#ITM CE\n",
    "#50 below ATM\n",
    "ltp_data = kite.ltp(\"256265\")\n",
    "ltp = ltp_data[\"256265\"]['last_price']\n",
    "itm_ce = int(get_atm_nifty(ltp)) - 50\n",
    "\n",
    "exchange = \"NFO\"\n",
    "tradingsymbol = \"NIFTY\" + week00_nf() + str(itm_ce) + \"CE\" \n",
    "print(tradingsymbol)\n",
    "try:\n",
    "    instruments = kite.ltp(exchange + \":\" + tradingsymbol)\n",
    "    if instruments:\n",
    "        instrument_token_ce = instruments[exchange + \":\" + tradingsymbol][\"instrument_token\"]\n",
    "        print(\"Instrument Token:\", instrument_token_ce)\n",
    "    else:\n",
    "        print(\"Instrument not found.\")\n",
    "except Exception as e:\n",
    "    print(\"Error:\", str(e))\n"
   ]
  },
  {
   "cell_type": "code",
   "execution_count": 52,
   "metadata": {},
   "outputs": [],
   "source": [
    "token_list = []"
   ]
  },
  {
   "cell_type": "code",
   "execution_count": 20,
   "metadata": {},
   "outputs": [],
   "source": [
    "listo = []"
   ]
  },
  {
   "cell_type": "code",
   "execution_count": 27,
   "metadata": {},
   "outputs": [
    {
     "name": "stdout",
     "output_type": "stream",
     "text": [
      "19250\n",
      "NIFTY2391419300CE\n",
      "NIFTY2391419350CE\n",
      "NIFTY2391419400CE\n",
      "NIFTY2391419450CE\n",
      "NIFTY2391419500CE\n",
      "NIFTY2391419550CE\n",
      "NIFTY2391419600CE\n",
      "NIFTY2391419650CE\n",
      "NIFTY2391419700CE\n",
      "[13542658, 13538562, 13539074, 13539586, 13540098, 13540610, 13541122, 13541634, 13542146, 13542658]\n"
     ]
    }
   ],
   "source": [
    "atm_ce_nf = int(get_atm_nifty(fetch_ltp(kite, 'NIFTY 50')))-500\n",
    "print(atm_ce_nf)\n",
    "for i in range(1, 10):\n",
    "    itm_ce = atm_ce_nf + (50*i)\n",
    "    listo.append(itm_ce)\n",
    "    exchange = \"NFO\"\n",
    "    tradingsymbol = \"NIFTY\" + week01_nf() + str(itm_ce) + \"CE\" \n",
    "    print(tradingsymbol)\n",
    "    try:\n",
    "        instrument_token_ce_nf=instrumentLookup(tradingsymbol)\n",
    "        token_list.append(instrument_token_ce_nf)\n",
    "    except Exception as e:\n",
    "        print(\"Error:\", str(e))\n",
    "\n",
    "print(token_list)   \n",
    "\n",
    "# print(listo)"
   ]
  },
  {
   "cell_type": "code",
   "execution_count": 56,
   "metadata": {},
   "outputs": [
    {
     "name": "stdout",
     "output_type": "stream",
     "text": [
      "NIFTY2391419500CE\n"
     ]
    }
   ],
   "source": [
    "tradingsymbol = \"NIFTY\" + week01_nf() + '19500' + \"CE\" \n",
    "print(tradingsymbol)"
   ]
  },
  {
   "cell_type": "code",
   "execution_count": 26,
   "metadata": {},
   "outputs": [
    {
     "data": {
      "text/plain": [
       "13538562"
      ]
     },
     "execution_count": 26,
     "metadata": {},
     "output_type": "execute_result"
    }
   ],
   "source": [
    "instrumentLookup('NIFTY2391419300CE')"
   ]
  },
  {
   "cell_type": "code",
   "execution_count": 46,
   "metadata": {},
   "outputs": [],
   "source": [
    "token_list = []"
   ]
  },
  {
   "cell_type": "code",
   "execution_count": 64,
   "metadata": {},
   "outputs": [],
   "source": [
    "def ITM_ce_nf():\n",
    "    global token_list\n",
    "    atm_ce_nf = int(get_atm_nifty(fetch_ltp(kite, 'NIFTY 50')))-500\n",
    "    # print(atm_ce_nf)\n",
    "    for i in range(1, 10):\n",
    "        itm_ce = atm_ce_nf + (50*i)\n",
    "        listo.append(itm_ce)\n",
    "        exchange = \"NFO\"\n",
    "        tradingsymbol = \"NIFTY\" + week00_nf() + str(itm_ce) + \"CE\" \n",
    "        try:\n",
    "            instrument_token_ce_nf=instrumentLookup(tradingsymbol)\n",
    "            token_list.append(instrument_token_ce_nf)\n",
    "        except Exception as e:\n",
    "            print(\"Error:\", str(e))\n",
    "        tradingsymbol = \"NIFTY\" + week01_nf() + str(itm_ce) + \"CE\" \n",
    "        try:\n",
    "            instrument_token_ce_nf=instrumentLookup(tradingsymbol)\n",
    "            token_list.append(instrument_token_ce_nf)\n",
    "        except Exception as e:\n",
    "            print(\"Error:\", str(e))\n",
    "        tradingsymbol = \"NIFTY\" + month00() + str(itm_ce) + \"CE\" \n",
    "        try:\n",
    "            instrument_token_ce_nf=instrumentLookup(tradingsymbol)\n",
    "            token_list.append(instrument_token_ce_nf)\n",
    "        except Exception as e:\n",
    "            print(\"Error:\", str(e))\n",
    "        tradingsymbol = \"NIFTY\" + month01() + str(itm_ce) + \"CE\" \n",
    "        try:\n",
    "            instrument_token_ce_nf=instrumentLookup(tradingsymbol)\n",
    "            token_list.append(instrument_token_ce_nf)\n",
    "        except Exception as e:\n",
    "            print(\"Error:\", str(e))\n",
    "\n",
    "      "
   ]
  },
  {
   "cell_type": "code",
   "execution_count": 65,
   "metadata": {},
   "outputs": [],
   "source": [
    "def ITM_pe_nf():\n",
    "    global token_list\n",
    "    atm_ce_nf = int(get_atm_nifty(fetch_ltp(kite, 'NIFTY 50')))-500\n",
    "    # print(atm_ce_nf)\n",
    "    for i in range(1, 10):\n",
    "        itm_ce = atm_ce_nf + (50*i)\n",
    "        listo.append(itm_ce)\n",
    "        exchange = \"NFO\"\n",
    "        tradingsymbol = \"NIFTY\" + week00_nf() + str(itm_ce) + \"PE\" \n",
    "        try:\n",
    "            instrument_token_ce_nf=instrumentLookup(tradingsymbol)\n",
    "            token_list.append(instrument_token_ce_nf)\n",
    "        except Exception as e:\n",
    "            print(\"Error:\", str(e))\n",
    "        tradingsymbol = \"NIFTY\" + week01_nf() + str(itm_ce) + \"PE\" \n",
    "        try:\n",
    "            instrument_token_ce_nf=instrumentLookup(tradingsymbol)\n",
    "            token_list.append(instrument_token_ce_nf)\n",
    "        except Exception as e:\n",
    "            print(\"Error:\", str(e))\n",
    "        tradingsymbol = \"NIFTY\" + month00() + str(itm_ce) + \"PE\" \n",
    "        try:\n",
    "            instrument_token_ce_nf=instrumentLookup(tradingsymbol)\n",
    "            token_list.append(instrument_token_ce_nf)\n",
    "        except Exception as e:\n",
    "            print(\"Error:\", str(e))\n",
    "        tradingsymbol = \"NIFTY\" + month01() + str(itm_ce) + \"PE\" \n",
    "        try:\n",
    "            instrument_token_ce_nf=instrumentLookup(tradingsymbol)\n",
    "            token_list.append(instrument_token_ce_nf)\n",
    "        except Exception as e:\n",
    "            print(\"Error:\", str(e))\n"
   ]
  },
  {
   "cell_type": "code",
   "execution_count": 66,
   "metadata": {},
   "outputs": [],
   "source": [
    "def ITM_ce_bn():\n",
    "    global token_list\n",
    "    atm_ce_bn = int(get_atm_nifty(fetch_ltp(kite, 'NIFTY BANK')))-1000\n",
    "    # print(atm_ce_bn)\n",
    "    for i in range(1, 10):\n",
    "        itm_ce = atm_ce_bn + (100*i)\n",
    "        listo.append(itm_ce)\n",
    "        exchange = \"NFO\"\n",
    "        tradingsymbol = \"BANKNIFTY\" + week00_bn() + str(itm_ce) + \"CE\" \n",
    "        try:\n",
    "            instrument_token_ce_nf=instrumentLookup(tradingsymbol)\n",
    "            token_list.append(instrument_token_ce_nf)\n",
    "        except Exception as e:\n",
    "            print(\"Error:\", str(e))\n",
    "        tradingsymbol = \"BANKNIFTY\" + week01_bn() + str(itm_ce) + \"CE\" \n",
    "        try:\n",
    "            instrument_token_ce_nf=instrumentLookup(tradingsymbol)\n",
    "            token_list.append(instrument_token_ce_nf)\n",
    "        except Exception as e:\n",
    "            print(\"Error:\", str(e))\n",
    "        tradingsymbol = \"BANKNIFTY\" + month00() + str(itm_ce) + \"CE\" \n",
    "        try:\n",
    "            instrument_token_ce_nf=instrumentLookup(tradingsymbol)\n",
    "            token_list.append(instrument_token_ce_nf)\n",
    "        except Exception as e:\n",
    "            print(\"Error:\", str(e))\n",
    "        tradingsymbol = \"BANKNIFTY\" + month01() + str(itm_ce) + \"CE\" \n",
    "        try:\n",
    "            instrument_token_ce_nf=instrumentLookup(tradingsymbol)\n",
    "            token_list.append(instrument_token_ce_nf)\n",
    "        except Exception as e:\n",
    "            print(\"Error:\", str(e))"
   ]
  },
  {
   "cell_type": "code",
   "execution_count": 68,
   "metadata": {},
   "outputs": [],
   "source": [
    "def ITM_pe_bn():\n",
    "    global token_list\n",
    "    atm_ce_bn = int(get_atm_nifty(fetch_ltp(kite, 'NIFTY BANK')))-1000\n",
    "    # print(atm_ce_bn)\n",
    "    for i in range(1, 10):\n",
    "        itm_ce = atm_ce_bn + (100*i)\n",
    "        listo.append(itm_ce)\n",
    "        exchange = \"NFO\"\n",
    "        tradingsymbol = \"BANKNIFTY\" + week00_bn() + str(itm_ce) + \"PE\" \n",
    "        try:\n",
    "            instrument_token_ce_nf=instrumentLookup(tradingsymbol)\n",
    "            token_list.append(instrument_token_ce_nf)\n",
    "        except Exception as e:\n",
    "            print(\"Error:\", str(e))\n",
    "        tradingsymbol = \"BANKNIFTY\" + week01_bn() + str(itm_ce) + \"PE\" \n",
    "        try:\n",
    "            instrument_token_ce_nf=instrumentLookup(tradingsymbol)\n",
    "            token_list.append(instrument_token_ce_nf)\n",
    "        except Exception as e:\n",
    "            print(\"Error:\", str(e))\n",
    "        tradingsymbol = \"BANKNIFTY\" + month00() + str(itm_ce) + \"PE\" \n",
    "        try:\n",
    "            instrument_token_ce_nf=instrumentLookup(tradingsymbol)\n",
    "            token_list.append(instrument_token_ce_nf)\n",
    "        except Exception as e:\n",
    "            print(\"Error:\", str(e))\n",
    "        tradingsymbol = \"BANKNIFTY\" + month01() + str(itm_ce) + \"PE\" \n",
    "        try:\n",
    "            instrument_token_ce_nf=instrumentLookup(tradingsymbol)\n",
    "            token_list.append(instrument_token_ce_nf)\n",
    "        except Exception as e:\n",
    "            print(\"Error:\", str(e))"
   ]
  },
  {
   "cell_type": "code",
   "execution_count": 73,
   "metadata": {},
   "outputs": [],
   "source": [
    "token_list = []\n",
    "ITM_pe_nf()\n",
    "ITM_ce_nf()\n",
    "ITM_pe_bn()\n",
    "ITM_ce_bn()"
   ]
  },
  {
   "cell_type": "code",
   "execution_count": 74,
   "metadata": {},
   "outputs": [
    {
     "data": {
      "text/plain": [
       "144"
      ]
     },
     "execution_count": 74,
     "metadata": {},
     "output_type": "execute_result"
    }
   ],
   "source": [
    "len(token_list)"
   ]
  },
  {
   "cell_type": "code",
   "execution_count": null,
   "metadata": {},
   "outputs": [],
   "source": [
    "import subprocess\n",
    "subprocess.run([\"python\", \"script_redis.py\"])"
   ]
  },
  {
   "cell_type": "code",
   "execution_count": 119,
   "metadata": {},
   "outputs": [
    {
     "data": {
      "text/plain": [
       "-1"
      ]
     },
     "execution_count": 119,
     "metadata": {},
     "output_type": "execute_result"
    }
   ],
   "source": [
    "fetch_ltp(kite, 'NSE', 'NIFTY BANK')\n",
    "instrumentLookup('BANKNIFTY2391444700CE')"
   ]
  },
  {
   "cell_type": "code",
   "execution_count": null,
   "metadata": {},
   "outputs": [],
   "source": [
    "def get_nifty_itm_symbol_updated(df_instruments, ltp, ce_pe, step_size = 50):\n",
    "    today = datetime.datetime.now().strftime(\"%Y-%m-%d\")\n",
    "    #today = '2023-08-03'\n",
    "    expiry_day = False\n",
    "    expiry_date = None\n",
    "    weekly_expiry, monthly_expiry = False, False\n",
    "    months_representation = {1:'JAN', 2:'FEB', 3:'MAR', 4:'APR', 5:'MAY', 6:'JUN', 7:'JUL', 8:'AUG', 9:'SEP', 10:'OCT', 11:'NOV', 12:'DEC'}\n",
    "    \n",
    "    all_expiry_dates = sorted(list(set(df_instruments[(df_instruments['exchange'] == 'NFO') & (df_instruments['name'] == 'NIFTY')]['expiry'].values)))\n",
    "    dates = [datetime.datetime.strptime(x, '%Y-%m-%d') for x in all_expiry_dates]\n",
    "    dates = sorted(dates)\n",
    "    sorted_dates = [datetime.datetime.strftime(x, \"%Y-%m-%d\") for x in dates]\n",
    "    #print('Sorted dates: ', sorted_dates)\n",
    "\n",
    "    # Take first 6 dates and find this months's all expiry dates\n",
    "    current_month = today.split('-')[1]\n",
    "    #print('Current month', current_month)\n",
    "\n",
    "    # Collect all expiry date for this month\n",
    "    this_month_expiry = []\n",
    "    for x in sorted_dates[:]:\n",
    "        #print(x.split('-')[1])\n",
    "        if x.split('-')[1] == current_month:\n",
    "            this_month_expiry.append(x)\n",
    "    #print('This month expiry: ', this_month_expiry)\n",
    "    \n",
    "    # Check if today is an expiry day or not\n",
    "    if today == this_month_expiry[0]:\n",
    "        expiry_day = True\n",
    "        #print(f\"Today {today} is an expiry day\")\n",
    "    else:\n",
    "        #print(f\"Today {today} is not an expiry day\")\n",
    "        expiry_date = this_month_expiry[0]\n",
    "        if len(this_month_expiry) == 1:\n",
    "            monthly_expiry = True\n",
    "            #print('This is a monthly expiry')\n",
    "\n",
    "\n",
    "    # this means, today is the monthly expiry date, so select next weekly expiry\n",
    "    if (expiry_day) and (len(this_month_expiry) == 1):   \n",
    "        expiry_date = sorted_dates[1]\n",
    "        #print('Selected Expiry date: ', expiry_date)\n",
    "\n",
    "    # if today is an expiry day and next expiry is a monthly expiry\n",
    "    elif ( (expiry_day) and (len(this_month_expiry) == 2) ):\n",
    "        expiry_date = this_month_expiry[-1]\n",
    "        #print('Selected Expiry date: ', expiry_date, ' and its a monthly expiry')\n",
    "        monthly_expiry = True\n",
    "\n",
    "    # else today is a weekly expiry and just paas the next weekly expiry\n",
    "    elif ((expiry_day) and (len(this_month_expiry) > 2)):\n",
    "        expiry_date = this_month_expiry[1]\n",
    "        #print('Selected Expiry date: ', expiry_date)\n",
    "\n",
    "    # Else just paas the current expiry date    \n",
    "    else:\n",
    "        expiry_date = this_month_expiry[0]\n",
    "        #print('Selected Expiry date: ', expiry_date)\n",
    "    \n",
    "    if monthly_expiry:\n",
    "        month = int(this_month_expiry[0].split('-')[1])\n",
    "        #print('Month: ', month)\n",
    "        nifty_symbol_name = 'NIFTY'+expiry_date.split('-')[0][-2:]+months_representation[month]\n",
    "        #print('Nifty symbol name: ', nifty_symbol_name)\n",
    "    else:\n",
    "        nifty_symbol_name = 'NIFTY'+expiry_date.split('-')[0][-2:]+str(int(expiry_date.split('-')[1]))+expiry_date.split('-')[2]\n",
    "        #print('Nifty symbol name: ', nifty_symbol_name)\n",
    "\n",
    "    atm_value = get_atm_nifty(ltp)\n",
    "    if ce_pe == 'PE':\n",
    "        itm_value = str(int(atm_value)+step_size)\n",
    "        nifty_symbol_name = nifty_symbol_name+itm_value+'PE'\n",
    "    if ce_pe == 'CE':\n",
    "        itm_value = str(int(atm_value)-step_size)\n",
    "        nifty_symbol_name = nifty_symbol_name+itm_value+'CE'\n",
    "    #print('Nifty itm symbol: ', nifty_symbol_name)\n",
    "    return nifty_symbol_name\n"
   ]
  }
 ],
 "metadata": {
  "kernelspec": {
   "display_name": "base",
   "language": "python",
   "name": "python3"
  },
  "language_info": {
   "codemirror_mode": {
    "name": "ipython",
    "version": 3
   },
   "file_extension": ".py",
   "mimetype": "text/x-python",
   "name": "python",
   "nbconvert_exporter": "python",
   "pygments_lexer": "ipython3",
   "version": "3.11.3"
  },
  "orig_nbformat": 4
 },
 "nbformat": 4,
 "nbformat_minor": 2
}
