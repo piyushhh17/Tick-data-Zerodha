{
 "cells": [
  {
   "cell_type": "code",
   "execution_count": 39,
   "metadata": {},
   "outputs": [],
   "source": [
    "import csv\n",
    "import time\n",
    "import traceback\n",
    "\n",
    "import pandas\n",
    "from ib_insync import *\n",
    "import datetime as dt\n",
    "import numpy as np\n",
    "import pandas as pd\n",
    "import warnings\n",
    "warnings.filterwarnings('ignore')\n",
    "\n",
    "import csv\n",
    "\n",
    "from ib_insync import *\n",
    "import datetime as dt\n",
    "import numpy as np\n",
    "import pandas as pd\n",
    "import warnings\n",
    "import traceback\n",
    "from copy import deepcopy\n",
    "\n",
    "from kiteconnect import KiteConnect\n",
    "import datetime as dt\n",
    "import numpy as np\n",
    "import pandas as pd\n",
    "import time\n",
    "import csv\n",
    "import sys\n",
    "import datetime as dt2\n",
    "\n",
    "from statsmodels.tsa.stattools import adfuller\n",
    "import statsmodels.api as sm\n",
    "warnings.filterwarnings('ignore')\n"
   ]
  },
  {
   "cell_type": "code",
   "execution_count": 4,
   "metadata": {},
   "outputs": [],
   "source": [
    "import pymongo\n",
    "\n",
    "# Replace these values with your MongoDB connection details\n",
    "host = \"localhost\"\n",
    "port = 27017\n",
    "\n",
    "# Create a MongoClient instance\n",
    "client = pymongo.MongoClient(host, port)\n"
   ]
  },
  {
   "cell_type": "code",
   "execution_count": 5,
   "metadata": {},
   "outputs": [],
   "source": [
    "# Replace \"mydatabase\" with the desired database name\n",
    "db_name = \"mydatabase001\"\n",
    "db = client[db_name]\n"
   ]
  },
  {
   "cell_type": "code",
   "execution_count": 9,
   "metadata": {},
   "outputs": [
    {
     "name": "stdout",
     "output_type": "stream",
     "text": [
      "Database created: Open_postitions\n"
     ]
    }
   ],
   "source": [
    "import pymongo\n",
    "\n",
    "# Replace these values with your MongoDB connection details\n",
    "host = \"localhost\"\n",
    "port = 27017\n",
    "\n",
    "# Create a MongoClient instance\n",
    "client = pymongo.MongoClient(host, port)\n",
    "\n",
    "# Replace \"mydatabase\" with the desired database name\n",
    "db_name = \"mydatabase001\"\n",
    "db = client[db_name]\n",
    "\n",
    "print(\"Database created:\", db_name)\n"
   ]
  },
  {
   "cell_type": "code",
   "execution_count": 11,
   "metadata": {},
   "outputs": [],
   "source": [
    "import pymongo\n",
    "\n",
    "# Replace these values with your MongoDB connection details\n",
    "host = \"localhost\"\n",
    "port = 27017\n",
    "database_name = \"mydatabase001\"\n",
    "\n",
    "# Create a MongoClient instance\n",
    "client = pymongo.MongoClient(host, port)\n",
    "\n",
    "# Access the database\n",
    "db = client[database_name]\n"
   ]
  },
  {
   "cell_type": "code",
   "execution_count": 8,
   "metadata": {},
   "outputs": [
    {
     "name": "stdout",
     "output_type": "stream",
     "text": [
      "{'_id': ObjectId('64ec30508ec5094aea4eca8d'), 'name': 'John Doe', 'age': 30}\n"
     ]
    },
    {
     "data": {
      "text/plain": [
       "<pymongo.results.UpdateResult at 0x254b47d5330>"
      ]
     },
     "execution_count": 8,
     "metadata": {},
     "output_type": "execute_result"
    }
   ],
   "source": [
    "# Insert a document into a collection\n",
    "collection = db[\"Open_postions\"]\n",
    "document = {\"name\": \"John Doe\", \"age\": 30}\n",
    "collection.insert_one(document)\n",
    "\n",
    "# Query data from a collection\n",
    "query = {\"name\": \"John Doe\"}\n",
    "result = collection.find(query)\n",
    "for document in result:\n",
    "    print(document)\n",
    "\n",
    "# Update a document\n",
    "query = {\"name\": \"John Doe\"}\n",
    "new_values = {\"$set\": {\"age\": 31}}\n",
    "collection.update_one(query, new_values)\n",
    "\n",
    "# Delete a document\n",
    "# query = {\"name\": \"John Doe\"}\n",
    "# collection.delete_one(query)\n"
   ]
  },
  {
   "cell_type": "code",
   "execution_count": 13,
   "metadata": {},
   "outputs": [
    {
     "data": {
      "text/plain": [
       "<pymongo.results.InsertOneResult at 0x254b49f4cd0>"
      ]
     },
     "execution_count": 13,
     "metadata": {},
     "output_type": "execute_result"
    }
   ],
   "source": [
    "collection = db[\"Open_positions\"]\n",
    "document = {\"order_entry_time\": \"2023-08-27 17:31:13\", \"tradingsymbol\": 30,\"exchange\":\"NFO\",\"instrument_token\":27245570, \"product\":\"NRML\", \"quantity\":650, \"average_price\":20.4, \"order_id\":110011, \"buy_sell\":\"BUY\"}\n",
    "collection.insert_one(document)"
   ]
  },
  {
   "cell_type": "code",
   "execution_count": 28,
   "metadata": {},
   "outputs": [
    {
     "name": "stdout",
     "output_type": "stream",
     "text": [
      "Data inserted ......\n",
      "['101', '102', '103']\n",
      "First record of the collection: \n",
      "{'_id': '101', 'name': 'Ram', 'age': '26', 'city': 'Hyderabad'}\n",
      "Record whose id is 103: \n",
      "{'_id': '103', 'name': 'Robert', 'age': '28', 'city': 'Mumbai'}\n"
     ]
    }
   ],
   "source": [
    "from pymongo import MongoClient\n",
    "\n",
    "#Creating a pymongo client\n",
    "client = MongoClient('localhost', 27017)\n",
    "\n",
    "#Getting the database instance\n",
    "db = client['mydatabase']\n",
    "\n",
    "#Creating a collection\n",
    "coll = db['example']\n",
    "\n",
    "#Inserting document into a collection\n",
    "data = [\n",
    "   {\"_id\": \"101\", \"name\": \"Ram\", \"age\": \"26\", \"city\": \"Hyderabad\"},\n",
    "   {\"_id\": \"102\", \"name\": \"Rahim\", \"age\": \"27\", \"city\": \"Bangalore\"},\n",
    "   {\"_id\": \"103\", \"name\": \"Robert\", \"age\": \"28\", \"city\": \"Mumbai\"}\n",
    "]\n",
    "res = coll.insert_many(data)\n",
    "print(\"Data inserted ......\")\n",
    "print(res.inserted_ids)\n",
    "\n",
    "#Retrieving the first record using the find_one() method\n",
    "print(\"First record of the collection: \")\n",
    "print(coll.find_one())\n",
    "\n",
    "#Retrieving a record with is 103 using the find_one() method\n",
    "print(\"Record whose id is 103: \")\n",
    "print(coll.find_one({\"_id\": \"103\"}))\n"
   ]
  },
  {
   "cell_type": "code",
   "execution_count": 32,
   "metadata": {},
   "outputs": [
    {
     "name": "stdout",
     "output_type": "stream",
     "text": [
      "CSV data imported to MongoDB.\n"
     ]
    }
   ],
   "source": [
    "import csv\n",
    "import pymongo\n",
    "\n",
    "# Open the CSV file and read data\n",
    "with open('Open_position.csv', 'r') as csv_file:\n",
    "    csv_reader = csv.DictReader(csv_file)\n",
    "    csv_data = [row for row in csv_reader]\n",
    "\n",
    "# Connect to MongoDB\n",
    "client = pymongo.MongoClient(\"mongodb://localhost:27017/\")\n",
    "db = client[\"mydatabase001\"]\n",
    "collection = db[\"Open_positions\"]\n",
    "\n",
    "# Insert each row into the collection\n",
    "for row in csv_data:\n",
    "    collection.insert_one(row)\n",
    "\n",
    "print(\"CSV data imported to MongoDB.\")\n"
   ]
  },
  {
   "cell_type": "code",
   "execution_count": 66,
   "metadata": {},
   "outputs": [
    {
     "name": "stdout",
     "output_type": "stream",
     "text": [
      "{'_id': ObjectId('64ec36998ec5094aea4ecaa3'), 'order_entry_time': '2023-08-27 17:31:13', 'tradingsymbol': 'CIPLA23AUG1220PE', 'exchange': 'NFO', 'instrument_token': '27245570', 'product': 'NRML', 'quantity': '650', 'average_price': '20.4', 'order_id': '110011', 'buy_sell': 'BUY'}\n",
      "{'_id': ObjectId('64ec36998ec5094aea4ecaa4'), 'order_entry_time': '2023-08-27 17:31:13', 'tradingsymbol': 'HINDALCO23AUG460PE', 'exchange': 'NFO', 'instrument_token': '32744450', 'product': 'NRML', 'quantity': '1400', 'average_price': '10', 'order_id': '110011', 'buy_sell': 'BUY'}\n",
      "{'_id': ObjectId('64ec36998ec5094aea4ecaa5'), 'order_entry_time': '2023-08-27 17:31:13', 'tradingsymbol': 'TATASTEEL23SEP120PE', 'exchange': 'NFO', 'instrument_token': '45128194', 'product': 'NRML', 'quantity': '5500', 'average_price': '4.55', 'order_id': '110011', 'buy_sell': 'BUY'}\n",
      "{'_id': ObjectId('64ec36998ec5094aea4ecaa6'), 'order_entry_time': '2023-08-27 17:31:13', 'tradingsymbol': 'WIPRO23AUG410PE', 'exchange': 'NFO', 'instrument_token': '38829570', 'product': 'NRML', 'quantity': '1500', 'average_price': '5.45', 'order_id': '110011', 'buy_sell': 'BUY'}\n",
      "{'_id': ObjectId('64ec4c798ec5094aea4ecaab'), 'order_entry_time': '2023-08-28 12:56:20', 'tradingsymbol': 'JIOFIN-BE', 'exchange': 'NSE', 'instrument_token': 4645889, 'product': 'CNC', 'quantity': 6, 'average_price': 220.6, 'order_id': 110011, 'buy_sell': 'BUY'}\n"
     ]
    }
   ],
   "source": [
    "import pymongo\n",
    "\n",
    "# Replace these values with your MongoDB connection details\n",
    "host = \"localhost\"\n",
    "port = 27017\n",
    "\n",
    "# Create a MongoClient instance\n",
    "client = pymongo.MongoClient(host, port)\n",
    "\n",
    "# Access the database and collection\n",
    "db_name = \"mydatabase001\"\n",
    "collection_name = \"Open_positions\"\n",
    "db = client[db_name]\n",
    "collection = db[collection_name]\n",
    "query = {\"exchange\": \"NFO\"}\n",
    "# Find all documents in the collection\n",
    "documents = collection.find()\n",
    "# print(documents)\n",
    "\n",
    "# Print each document\n",
    "for document in documents:\n",
    "    print(document)\n"
   ]
  },
  {
   "cell_type": "code",
   "execution_count": 67,
   "metadata": {},
   "outputs": [
    {
     "name": "stdout",
     "output_type": "stream",
     "text": [
      "instrument token:  27245570\n",
      "avg price: 27245570\n",
      "--------------------\n",
      "instrument token:  32744450\n",
      "avg price: 32744450\n",
      "--------------------\n",
      "instrument token:  45128194\n",
      "avg price: 45128194\n",
      "--------------------\n",
      "instrument token:  38829570\n",
      "avg price: 38829570\n",
      "--------------------\n",
      "instrument token:  4645889\n",
      "avg price: 4645889\n",
      "--------------------\n"
     ]
    }
   ],
   "source": [
    "import pymongo\n",
    "\n",
    "# Connect to MongoDB\n",
    "client = pymongo.MongoClient(\"mongodb://localhost:27017/\")\n",
    "db = client[\"mydatabase001\"]\n",
    "collection = db[\"Open_positions\"]\n",
    "\n",
    "# Specify the fields you want to retrieve (1 indicates inclusion, 0 indicates exclusion)\n",
    "projection = {\"instrument_token\": 1, \"average_price\": 1, \"_id\": 0}\n",
    "\n",
    "# Retrieve all documents with the specified projection\n",
    "documents = collection.find({}, projection)\n",
    "\n",
    "# Print each document's \"field1\" and \"field2\" values\n",
    "for document in documents:\n",
    "    print(\"instrument token: \", document[\"instrument_token\"])\n",
    "    print(\"avg price:\", document[\"instrument_token\"])\n",
    "    print(\"-\" * 20)  # Separator between documents\n"
   ]
  },
  {
   "cell_type": "code",
   "execution_count": 78,
   "metadata": {},
   "outputs": [
    {
     "name": "stdout",
     "output_type": "stream",
     "text": [
      "Order Entry Time: 2023-08-27 17:31:13\n",
      "instrument token:  45128194\n",
      "avg price: 45128194\n",
      "--------------------\n"
     ]
    }
   ],
   "source": [
    "import pymongo\n",
    "\n",
    "# Connect to MongoDB\n",
    "client = pymongo.MongoClient(\"mongodb://localhost:27017/\")\n",
    "db = client[\"mydatabase001\"]\n",
    "collection = db[\"Open_positions\"]\n",
    "\n",
    "# Specify the fields you want to retrieve (1 indicates inclusion, 0 indicates exclusion)\n",
    "projection = {\"order_entry_time\": 1, \"instrument_token\": 1, \"average_price\": 1, \"_id\": 0}\n",
    "\n",
    "query = {\"tradingsymbol\": \"TATASTEEL23SEP120PE\"}\n",
    "\n",
    "# Retrieve all documents with the specified projection\n",
    "documents = collection.find(query, projection)\n",
    "\n",
    "# Print each document's \"field1\" and \"field2\" values\n",
    "for document in documents:\n",
    "    print(\"Order Entry Time:\", document[\"order_entry_time\"])\n",
    "    print(\"instrument token: \", document[\"instrument_token\"])\n",
    "    print(\"avg price:\", document[\"instrument_token\"])\n",
    "    print(\"-\" * 20)  # Separator between documents\n"
   ]
  },
  {
   "cell_type": "code",
   "execution_count": 41,
   "metadata": {},
   "outputs": [
    {
     "name": "stdout",
     "output_type": "stream",
     "text": [
      "{'order_entry_time': '2023-08-28 12:56:20', 'tradingsymbol': 'JIOFIN-BE', 'exchange': 'NSE', 'instrument_token': 4645889, 'product': 'CNC', 'quantity': 6, 'average_price': 220.6, 'order_id': 110011, 'buy_sell': 'BUY'}\n"
     ]
    }
   ],
   "source": [
    "dict_all = {'tradingsymbol': 'JIOFIN-BE', 'exchange': 'NSE', 'instrument_token': 4645889, 'product': 'CNC', 'quantity': 6, 'overnight_quantity': 0, 'multiplier': 1, 'average_price': 220.6, 'close_price': 0, 'last_price': 217.95, 'value': -1323.6, 'pnl': -15.900000000000091, 'm2m': -15.900000000000091, 'unrealised': -15.900000000000091, 'realised': 0, 'buy_quantity': 6, 'buy_price': 220.6, 'buy_value': 1323.6, 'buy_m2m': 1323.6, 'sell_quantity': 0, 'sell_price': 0, 'sell_value': 0, 'sell_m2m': 0, 'day_buy_quantity': 6, 'day_buy_price': 220.6, 'day_buy_value': 1323.6, 'day_sell_quantity': 0, 'day_sell_price': 0, 'day_sell_value': 0}\n",
    "current_datetime = dt.datetime.now()\n",
    "formatted_datetime = current_datetime.strftime(\"%Y-%m-%d %H:%M:%S\")\n",
    "dict_position = {\n",
    "    'order_entry_time': formatted_datetime,\n",
    "    'tradingsymbol': dict_all.get('tradingsymbol'),\n",
    "    'exchange': dict_all.get('exchange'),\n",
    "    'instrument_token': dict_all.get('instrument_token'),\n",
    "    'product': dict_all.get('product'),\n",
    "    'quantity': dict_all.get('quantity', 0),\n",
    "    'average_price': dict_all.get('average_price', 0),\n",
    "    'order_id': 110011,\n",
    "    'buy_sell': \"BUY\"\n",
    "}\n",
    "print(dict_position)\n",
    "collection = db[\"Open_positions\"]\n",
    "collection.insert_one(dict_position)"
   ]
  }
 ],
 "metadata": {
  "kernelspec": {
   "display_name": "base",
   "language": "python",
   "name": "python3"
  },
  "language_info": {
   "codemirror_mode": {
    "name": "ipython",
    "version": 3
   },
   "file_extension": ".py",
   "mimetype": "text/x-python",
   "name": "python",
   "nbconvert_exporter": "python",
   "pygments_lexer": "ipython3",
   "version": "3.11.3"
  },
  "orig_nbformat": 4
 },
 "nbformat": 4,
 "nbformat_minor": 2
}
